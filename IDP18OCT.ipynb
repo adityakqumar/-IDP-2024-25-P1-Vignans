{
  "nbformat": 4,
  "nbformat_minor": 0,
  "metadata": {
    "colab": {
      "provenance": []
    },
    "kernelspec": {
      "name": "python3",
      "display_name": "Python 3"
    },
    "language_info": {
      "name": "python"
    }
  },
  "cells": [
    {
      "cell_type": "code",
      "execution_count": null,
      "metadata": {
        "colab": {
          "base_uri": "https://localhost:8080/"
        },
        "id": "56xC3iG9NquT",
        "outputId": "80fc0f9d-8995-4c3f-ee80-5b08d4d45cdf"
      },
      "outputs": [
        {
          "output_type": "execute_result",
          "data": {
            "text/plain": [
              "(   Gender   Age  POLAR4 Quintile  POLAR3 Quintile  Adult HE 2001 Quintile  \\\n",
              " 0     0.0  38.0              5.0              5.0                     4.0   \n",
              " 1     0.0  22.0              4.0              2.0                     1.0   \n",
              " 2     0.0  21.0              4.0              5.0                     4.0   \n",
              " 3     0.0  25.0              5.0              4.0                     3.0   \n",
              " 4     0.0  20.0              5.0              4.0                     3.0   \n",
              " \n",
              "    Adult HE 2011 Quintile  TUNDRA MSOA Quintile  TUNDRA LSOA Quintile  \\\n",
              " 0                     5.0                   4.0                   4.0   \n",
              " 1                     3.0                   4.0                   4.0   \n",
              " 2                     5.0                   4.0                   4.0   \n",
              " 3                     4.0                   3.0                   3.0   \n",
              " 4                     4.0                   3.0                   3.0   \n",
              " \n",
              "    Gaps GCSE Quintile   Gaps GCSE Ethnicity Quintile  ...  \\\n",
              " 0                  5.0                           5.0  ...   \n",
              " 1                  4.0                           5.0  ...   \n",
              " 2                  5.0                           5.0  ...   \n",
              " 3                  5.0                           5.0  ...   \n",
              " 4                  4.0                           4.0  ...   \n",
              " \n",
              "    distance to university (km)  Count of Module Area Logins  \\\n",
              " 0                    13.333806                         19.0   \n",
              " 1                    15.844126                          1.0   \n",
              " 2                    17.706573                         25.0   \n",
              " 3                    17.327498                          3.0   \n",
              " 4                     0.000000                         25.0   \n",
              " \n",
              "    Total Hours in Module Area  % of Average Hours in Module Area  \\\n",
              " 0                        7.41                           0.620767   \n",
              " 1                        0.03                           0.002513   \n",
              " 2                        6.14                           0.514374   \n",
              " 3                        0.16                           0.013404   \n",
              " 4                        4.03                           0.337610   \n",
              " \n",
              "    # of presence  # of Absence  Percent Attended  label (fail=1, pass=0)  \\\n",
              " 0            3.0           9.0         25.000000                     1.0   \n",
              " 1            0.0          12.0          0.000000                     1.0   \n",
              " 2            5.0           7.0         41.666667                     1.0   \n",
              " 3            0.0          12.0          0.000000                     1.0   \n",
              " 4           11.0           1.0         91.666667                     1.0   \n",
              " \n",
              "    Unnamed: 20  Unnamed: 21  \n",
              " 0          NaN          NaN  \n",
              " 1          NaN          NaN  \n",
              " 2          NaN          NaN  \n",
              " 3          NaN          NaN  \n",
              " 4          NaN          NaN  \n",
              " \n",
              " [5 rows x 22 columns],\n",
              " Index(['Gender', 'Age', 'POLAR4 Quintile', 'POLAR3 Quintile',\n",
              "        'Adult HE 2001 Quintile', 'Adult HE 2011 Quintile',\n",
              "        'TUNDRA MSOA Quintile', 'TUNDRA LSOA Quintile', 'Gaps GCSE Quintile ',\n",
              "        'Gaps GCSE Ethnicity Quintile', 'Uni Connect target ward',\n",
              "        'attending from home?', 'distance to university (km)',\n",
              "        'Count of Module Area Logins', 'Total Hours in Module Area',\n",
              "        '% of Average Hours in Module Area', '# of presence', '# of Absence',\n",
              "        'Percent Attended', 'label (fail=1, pass=0)', 'Unnamed: 20',\n",
              "        'Unnamed: 21'],\n",
              "       dtype='object'))"
            ]
          },
          "metadata": {},
          "execution_count": 3
        }
      ],
      "source": [
        "\n",
        "import pandas as pd\n",
        "\n",
        "# Load the dataset again\n",
        "file_path_new = 'original.csv'\n",
        "data_new = pd.read_csv(file_path_new)\n",
        "\n",
        "# Display the first few rows and column names to understand the structure of the data\n",
        "data_new.head(), data_new.columns\n"
      ]
    },
    {
      "cell_type": "code",
      "source": [
        "# Reimport necessary libraries\n",
        "from sklearn.model_selection import train_test_split\n",
        "from sklearn.preprocessing import LabelEncoder\n",
        "from sklearn.tree import DecisionTreeClassifier\n",
        "from sklearn.svm import SVC\n",
        "from sklearn.naive_bayes import GaussianNB\n",
        "from sklearn.neighbors import KNeighborsClassifier\n",
        "from sklearn.linear_model import LogisticRegression\n",
        "from sklearn.ensemble import RandomForestClassifier\n",
        "from sklearn.metrics import accuracy_score\n",
        "# Import SimpleImputer to handle missing values\n",
        "from sklearn.impute import SimpleImputer\n",
        "\n",
        "# Drop unnecessary columns\n",
        "data_cleaned = data_new.drop(columns=['Unnamed: 20', 'Unnamed: 21', 'POLAR4 Quintile', 'POLAR3 Quintile',\n",
        "                                      'Adult HE 2001 Quintile', 'Adult HE 2011 Quintile', 'TUNDRA MSOA Quintile',\n",
        "                                      'TUNDRA LSOA Quintile', 'Uni Connect target ward', 'attending from home?'])\n",
        "\n",
        "# Selected relevant features\n",
        "selected_features = ['Gender', 'Age', 'distance to university (km)', 'Count of Module Area Logins',\n",
        "                     'Total Hours in Module Area', '% of Average Hours in Module Area', '# of presence',\n",
        "                     '# of Absence', 'Percent Attended']\n",
        "target_variable = 'label (fail=1, pass=0)'\n",
        "\n",
        "# Prepare feature matrix (X) and target vector (Y)\n",
        "X = data_cleaned[selected_features]\n",
        "Y = data_cleaned[target_variable]\n",
        "\n",
        "# Encoding categorical features (Gender)\n",
        "X['Gender'] = LabelEncoder().fit_transform(X['Gender'])\n",
        "\n",
        "# Remove rows with missing values in the target variable\n",
        "# This line is added to drop rows where the target variable is NaN\n",
        "data_cleaned = data_cleaned.dropna(subset=[target_variable])\n",
        "X = data_cleaned[selected_features]\n",
        "Y = data_cleaned[target_variable]\n",
        "\n",
        "# Split dataset into training and testing sets\n",
        "X_train, X_test, Y_train, Y_test = train_test_split(X, Y, test_size=0.2, random_state=42)\n",
        "\n",
        "# Create an imputer to replace NaN values with the mean of the column\n",
        "imputer = SimpleImputer(strategy='mean')  # You can use other strategies like 'median' or 'most_frequent'\n",
        "\n",
        "# Fit the imputer on the training data and transform both training and testing data\n",
        "X_train = imputer.fit_transform(X_train)\n",
        "X_test = imputer.transform(X_test)\n",
        "\n",
        "# Dictionary to hold the models\n",
        "models = {\n",
        "    \"Decision Tree (J48)\": DecisionTreeClassifier(random_state=42),\n",
        "    \"SVM\": SVC(random_state=42),\n",
        "    \"Naive Bayes\": GaussianNB(),\n",
        "    \"KNN\": KNeighborsClassifier(),\n",
        "    \"Logistic Regression\": LogisticRegression(random_state=42, max_iter=1000),\n",
        "    \"Random Forest\": RandomForestClassifier(random_state=42)\n",
        "}\n",
        "\n",
        "# Train and evaluate each model\n",
        "results = {}\n",
        "for model_name, model in models.items():\n",
        "    # Train the model\n",
        "    model.fit(X_train, Y_train)\n",
        "    # Predict on the test set\n",
        "    Y_pred = model.predict(X_test)\n",
        "    # Calculate accuracy\n",
        "\n",
        "    accuracy = accuracy_score(Y_test, Y_pred)\n",
        "    results[model_name] = accuracy\n",
        "\n",
        "results"
      ],
      "metadata": {
        "colab": {
          "base_uri": "https://localhost:8080/"
        },
        "id": "oJzQpNWZXLRV",
        "outputId": "3202424f-6fbc-4a77-a2a8-7916a14cc60f"
      },
      "execution_count": null,
      "outputs": [
        {
          "output_type": "stream",
          "name": "stderr",
          "text": [
            "<ipython-input-10-233bd9c27c28>:30: SettingWithCopyWarning: \n",
            "A value is trying to be set on a copy of a slice from a DataFrame.\n",
            "Try using .loc[row_indexer,col_indexer] = value instead\n",
            "\n",
            "See the caveats in the documentation: https://pandas.pydata.org/pandas-docs/stable/user_guide/indexing.html#returning-a-view-versus-a-copy\n",
            "  X['Gender'] = LabelEncoder().fit_transform(X['Gender'])\n"
          ]
        },
        {
          "output_type": "execute_result",
          "data": {
            "text/plain": [
              "{'Decision Tree (J48)': 0.875,\n",
              " 'SVM': 0.8125,\n",
              " 'Naive Bayes': 0.5,\n",
              " 'KNN': 0.8125,\n",
              " 'Logistic Regression': 0.875,\n",
              " 'Random Forest': 0.8125}"
            ]
          },
          "metadata": {},
          "execution_count": 10
        }
      ]
    },
    {
      "cell_type": "code",
      "source": [
        "# Fill missing numerical columns with their mean\n",
        "data_cleaned.fillna({\n",
        "    'Age': data_cleaned['Age'].mean(),\n",
        "    'distance to university (km)': data_cleaned['distance to university (km)'].mean(),\n",
        "    'Count of Module Area Logins': data_cleaned['Count of Module Area Logins'].mean(),\n",
        "    'Total Hours in Module Area': data_cleaned['Total Hours in Module Area'].mean(),\n",
        "    '% of Average Hours in Module Area': data_cleaned['% of Average Hours in Module Area'].mean(),\n",
        "    '# of presence': data_cleaned['# of presence'].mean(),\n",
        "    '# of Absence': data_cleaned['# of Absence'].mean(),\n",
        "    'Percent Attended': data_cleaned['Percent Attended'].mean(),\n",
        "}, inplace=True)\n"
      ],
      "metadata": {
        "id": "PM1CSYZ6YCVd"
      },
      "execution_count": null,
      "outputs": []
    },
    {
      "cell_type": "code",
      "source": [
        "# Splitting the dataset into training and testing sets\n",
        "X_train, X_test, Y_train, Y_test = train_test_split(X, Y, test_size=0.2, random_state=42)\n"
      ],
      "metadata": {
        "id": "q7AeE6RUZMrh"
      },
      "execution_count": null,
      "outputs": []
    },
    {
      "cell_type": "markdown",
      "source": [],
      "metadata": {
        "id": "2gSOYYqjZSKU"
      }
    },
    {
      "cell_type": "code",
      "source": [
        "# Example: Train a Decision Tree model\n",
        "from sklearn.tree import DecisionTreeClassifier\n",
        "from sklearn.metrics import accuracy_score\n",
        "\n",
        "# Initialize the model\n",
        "dt_classifier = DecisionTreeClassifier(random_state=42)\n",
        "\n",
        "# Train the model\n",
        "dt_classifier.fit(X_train, Y_train)\n",
        "\n",
        "# Make predictions\n",
        "Y_pred = dt_classifier.predict(X_test)\n",
        "\n",
        "# Evaluate the model\n",
        "accuracy = accuracy_score(Y_test, Y_pred)\n",
        "print(f\"Decision Tree Accuracy: {accuracy:.2f}\")\n"
      ],
      "metadata": {
        "colab": {
          "base_uri": "https://localhost:8080/"
        },
        "id": "_LPmh-_AZP03",
        "outputId": "e57a083d-d496-4859-d9c2-3cacd5ecfe8e"
      },
      "execution_count": null,
      "outputs": [
        {
          "output_type": "stream",
          "name": "stdout",
          "text": [
            "Decision Tree Accuracy: 0.88\n"
          ]
        }
      ]
    },
    {
      "source": [
        "# Import necessary libraries\n",
        "from sklearn.model_selection import train_test_split\n",
        "from sklearn.impute import SimpleImputer\n",
        "from sklearn.svm import SVC\n",
        "from sklearn.metrics import accuracy_score\n",
        "\n",
        "# Assuming 'data_cleaned' is your DataFrame with potential missing values\n",
        "# ... (Your previous code for data loading and cleaning) ...\n",
        "\n",
        "# Create features (X) and target (Y)\n",
        "# ... (Your code to define X and Y) ...\n",
        "\n",
        "# Impute missing values using SimpleImputer before splitting\n",
        "imputer = SimpleImputer(strategy='mean') # You can choose other strategies like 'median'\n",
        "X_imputed = imputer.fit_transform(X)\n",
        "\n",
        "# Splitting the dataset into training and testing sets AFTER imputation\n",
        "X_train, X_test, Y_train, Y_test = train_test_split(X_imputed, Y, test_size=0.2, random_state=42)\n",
        "\n",
        "# Train SVM\n",
        "svm_classifier = SVC(random_state=42)\n",
        "svm_classifier.fit(X_train, Y_train)\n",
        "Y_pred_svm = svm_classifier.predict(X_test)\n",
        "accuracy_svm = accuracy_score(Y_test, Y_pred_svm)\n",
        "print(f\"SVM Accuracy: {accuracy_svm:.2f}\")"
      ],
      "cell_type": "code",
      "metadata": {
        "colab": {
          "base_uri": "https://localhost:8080/"
        },
        "id": "wPBMuV1LZnYv",
        "outputId": "9ab0130c-bff6-46ab-ef72-25067cfa3317"
      },
      "execution_count": null,
      "outputs": [
        {
          "output_type": "stream",
          "name": "stdout",
          "text": [
            "SVM Accuracy: 0.81\n"
          ]
        }
      ]
    },
    {
      "cell_type": "code",
      "source": [
        "from sklearn.naive_bayes import GaussianNB\n",
        "\n",
        "# Train Naive Bayes\n",
        "nb_classifier = GaussianNB()\n",
        "nb_classifier.fit(X_train, Y_train)\n",
        "Y_pred_nb = nb_classifier.predict(X_test)\n",
        "accuracy_nb = accuracy_score(Y_test, Y_pred_nb)\n",
        "print(f\"Naive Bayes Accuracy: {accuracy_nb:.2f}\")\n"
      ],
      "metadata": {
        "colab": {
          "base_uri": "https://localhost:8080/"
        },
        "id": "zoKlHh03ZaWk",
        "outputId": "d2cc4e1f-428d-4cac-f308-d83de8a7246e"
      },
      "execution_count": null,
      "outputs": [
        {
          "output_type": "stream",
          "name": "stdout",
          "text": [
            "Naive Bayes Accuracy: 0.50\n"
          ]
        }
      ]
    },
    {
      "cell_type": "code",
      "source": [
        "from sklearn.neighbors import KNeighborsClassifier\n",
        "\n",
        "# Train kNN\n",
        "knn_classifier = KNeighborsClassifier()\n",
        "knn_classifier.fit(X_train, Y_train)\n",
        "Y_pred_knn = knn_classifier.predict(X_test)\n",
        "accuracy_knn = accuracy_score(Y_test, Y_pred_knn)\n",
        "print(f\"kNN Accuracy: {accuracy_knn:.2f}\")\n"
      ],
      "metadata": {
        "colab": {
          "base_uri": "https://localhost:8080/"
        },
        "id": "VF4gINqiZui4",
        "outputId": "777aad64-7a5d-4dba-fc06-fc7553f20558"
      },
      "execution_count": null,
      "outputs": [
        {
          "output_type": "stream",
          "name": "stdout",
          "text": [
            "kNN Accuracy: 0.81\n"
          ]
        }
      ]
    },
    {
      "cell_type": "code",
      "source": [
        "from sklearn.linear_model import LogisticRegression\n",
        "\n",
        "# Train Logistic Regression\n",
        "lr_classifier = LogisticRegression(random_state=42, max_iter=1000)\n",
        "lr_classifier.fit(X_train, Y_train)\n",
        "Y_pred_lr = lr_classifier.predict(X_test)\n",
        "accuracy_lr = accuracy_score(Y_test, Y_pred_lr)\n",
        "print(f\"Logistic Regression Accuracy: {accuracy_lr:.2f}\")\n"
      ],
      "metadata": {
        "colab": {
          "base_uri": "https://localhost:8080/"
        },
        "id": "TiYqsbmDZyr-",
        "outputId": "07c1ec58-bdbd-4bb0-e3ee-31992eb766a0"
      },
      "execution_count": null,
      "outputs": [
        {
          "output_type": "stream",
          "name": "stdout",
          "text": [
            "Logistic Regression Accuracy: 0.88\n"
          ]
        }
      ]
    },
    {
      "cell_type": "code",
      "source": [
        "from sklearn.ensemble import RandomForestClassifier\n",
        "\n",
        "# Train Random Forest\n",
        "rf_classifier = RandomForestClassifier(random_state=42)\n",
        "rf_classifier.fit(X_train, Y_train)\n",
        "Y_pred_rf = rf_classifier.predict(X_test)\n",
        "accuracy_rf = accuracy_score(Y_test, Y_pred_rf)\n",
        "print(f\"Random Forest Accuracy: {accuracy_rf:.2f}\")\n"
      ],
      "metadata": {
        "colab": {
          "base_uri": "https://localhost:8080/"
        },
        "id": "UCrxzmQZZ2Z0",
        "outputId": "7a524d5a-3353-4738-d03b-99c09789d3c7"
      },
      "execution_count": null,
      "outputs": [
        {
          "output_type": "stream",
          "name": "stdout",
          "text": [
            "Random Forest Accuracy: 0.81\n"
          ]
        }
      ]
    },
    {
      "cell_type": "code",
      "source": [
        "from sklearn.model_selection import GridSearchCV\n",
        "from sklearn.ensemble import RandomForestClassifier\n",
        "\n",
        "# Define the model\n",
        "rf_classifier = RandomForestClassifier(random_state=42)\n",
        "\n",
        "# Set up the parameter grid for tuning\n",
        "param_grid = {\n",
        "    'n_estimators': [50, 100, 200],\n",
        "    'max_depth': [None, 10, 20, 30],\n",
        "    'min_samples_split': [2, 5, 10],\n",
        "    'min_samples_leaf': [1, 2, 4],\n",
        "    'bootstrap': [True, False]\n",
        "}\n",
        "\n",
        "# Initialize GridSearchCV\n",
        "grid_search_rf = GridSearchCV(estimator=rf_classifier, param_grid=param_grid, cv=5, scoring='accuracy')\n",
        "\n",
        "# Fit the model\n",
        "grid_search_rf.fit(X_train, Y_train)\n",
        "\n",
        "# Best hyperparameters and best score\n",
        "print(f\"Best Hyperparameters: {grid_search_rf.best_params_}\")\n",
        "print(f\"Best Accuracy Score: {grid_search_rf.best_score_:.2f}\")\n",
        "\n",
        "# Use the best model for predictions\n",
        "best_rf_model = grid_search_rf.best_estimator_\n",
        "Y_pred_rf = best_rf_model.predict(X_test)\n",
        "\n",
        "# Evaluate accuracy on test data\n",
        "accuracy_rf = accuracy_score(Y_test, Y_pred_rf)\n",
        "print(f\"Test Accuracy with best Random Forest: {accuracy_rf:.2f}\")\n"
      ],
      "metadata": {
        "colab": {
          "base_uri": "https://localhost:8080/"
        },
        "id": "SyYTGjsPZ6_K",
        "outputId": "06594bff-fade-4747-f072-8f9e6e063fbf"
      },
      "execution_count": null,
      "outputs": [
        {
          "output_type": "stream",
          "name": "stdout",
          "text": [
            "Best Hyperparameters: {'bootstrap': True, 'max_depth': None, 'min_samples_leaf': 4, 'min_samples_split': 2, 'n_estimators': 50}\n",
            "Best Accuracy Score: 0.89\n",
            "Test Accuracy with best Random Forest: 0.81\n"
          ]
        }
      ]
    },
    {
      "cell_type": "code",
      "source": [
        "pip install seaborn matplotlib scikit-learn\n"
      ],
      "metadata": {
        "colab": {
          "base_uri": "https://localhost:8080/"
        },
        "id": "sMFaJeOR8g7l",
        "outputId": "9e0f6ce1-0884-4895-81e0-ea42594be3d8"
      },
      "execution_count": null,
      "outputs": [
        {
          "output_type": "stream",
          "name": "stdout",
          "text": [
            "Requirement already satisfied: seaborn in /usr/local/lib/python3.10/dist-packages (0.13.2)\n",
            "Requirement already satisfied: matplotlib in /usr/local/lib/python3.10/dist-packages (3.7.1)\n",
            "Requirement already satisfied: scikit-learn in /usr/local/lib/python3.10/dist-packages (1.5.2)\n",
            "Requirement already satisfied: numpy!=1.24.0,>=1.20 in /usr/local/lib/python3.10/dist-packages (from seaborn) (1.26.4)\n",
            "Requirement already satisfied: pandas>=1.2 in /usr/local/lib/python3.10/dist-packages (from seaborn) (2.2.2)\n",
            "Requirement already satisfied: contourpy>=1.0.1 in /usr/local/lib/python3.10/dist-packages (from matplotlib) (1.3.0)\n",
            "Requirement already satisfied: cycler>=0.10 in /usr/local/lib/python3.10/dist-packages (from matplotlib) (0.12.1)\n",
            "Requirement already satisfied: fonttools>=4.22.0 in /usr/local/lib/python3.10/dist-packages (from matplotlib) (4.54.1)\n",
            "Requirement already satisfied: kiwisolver>=1.0.1 in /usr/local/lib/python3.10/dist-packages (from matplotlib) (1.4.7)\n",
            "Requirement already satisfied: packaging>=20.0 in /usr/local/lib/python3.10/dist-packages (from matplotlib) (24.1)\n",
            "Requirement already satisfied: pillow>=6.2.0 in /usr/local/lib/python3.10/dist-packages (from matplotlib) (10.4.0)\n",
            "Requirement already satisfied: pyparsing>=2.3.1 in /usr/local/lib/python3.10/dist-packages (from matplotlib) (3.1.4)\n",
            "Requirement already satisfied: python-dateutil>=2.7 in /usr/local/lib/python3.10/dist-packages (from matplotlib) (2.8.2)\n",
            "Requirement already satisfied: scipy>=1.6.0 in /usr/local/lib/python3.10/dist-packages (from scikit-learn) (1.13.1)\n",
            "Requirement already satisfied: joblib>=1.2.0 in /usr/local/lib/python3.10/dist-packages (from scikit-learn) (1.4.2)\n",
            "Requirement already satisfied: threadpoolctl>=3.1.0 in /usr/local/lib/python3.10/dist-packages (from scikit-learn) (3.5.0)\n",
            "Requirement already satisfied: pytz>=2020.1 in /usr/local/lib/python3.10/dist-packages (from pandas>=1.2->seaborn) (2024.2)\n",
            "Requirement already satisfied: tzdata>=2022.7 in /usr/local/lib/python3.10/dist-packages (from pandas>=1.2->seaborn) (2024.2)\n",
            "Requirement already satisfied: six>=1.5 in /usr/local/lib/python3.10/dist-packages (from python-dateutil>=2.7->matplotlib) (1.16.0)\n"
          ]
        }
      ]
    },
    {
      "cell_type": "code",
      "source": [
        "import pandas as pd  # Import pandas to read your dataset\n",
        "from sklearn.model_selection import train_test_split\n",
        "from sklearn.linear_model import LogisticRegression\n",
        "from sklearn.metrics import confusion_matrix\n",
        "import seaborn as sns\n",
        "import matplotlib.pyplot as plt\n",
        "from sklearn.impute import SimpleImputer  # Import SimpleImputer to handle missing data\n",
        "\n",
        "# 1. Load your data\n",
        "data = pd.read_csv('original.csv')\n",
        "\n",
        "# Drop unnecessary or empty columns\n",
        "data = data.drop(['Unnamed: 20', 'Unnamed: 21'], axis=1, errors='ignore')\n",
        "\n",
        "# Ensure the target column has a consistent name and no missing values\n",
        "target_variable = 'label (fail=1, pass=0)'\n",
        "data = data.dropna(subset=[target_variable])  # Drop rows where the target variable is NaN\n",
        "\n",
        "# 2. Define features (X) and target (y)\n",
        "X = data.drop(target_variable, axis=1)\n",
        "y = data[target_variable]\n",
        "\n",
        "# 3. Split data into training and testing sets\n",
        "X_train, X_test, y_train, y_test = train_test_split(X, y, test_size=0.2, random_state=42)\n",
        "\n",
        "# 4. Handle missing data with SimpleImputer\n",
        "imputer = SimpleImputer(strategy='mean')  # Create an imputer instance with strategy='mean'\n",
        "X_train = imputer.fit_transform(X_train)  # Fit the imputer on training data and transform it\n",
        "X_test = imputer.transform(X_test)  # Transform the test data using the fitted imputer\n",
        "\n",
        "# 5. Train and predict using a model (e.g., Logistic Regression)\n",
        "model = LogisticRegression(random_state=42, max_iter=1000)  # Initialize your model\n",
        "model.fit(X_train, y_train)  # Train the model\n",
        "y_pred = model.predict(X_test)  # Make predictions on the test set\n",
        "\n",
        "# 6. Generate the confusion matrix\n",
        "cm = confusion_matrix(y_test, y_pred)\n",
        "\n",
        "# 7. Visualize the confusion matrix using a heatmap\n",
        "plt.figure(figsize=(6, 4))\n",
        "sns.heatmap(cm, annot=True, fmt='d', cmap='Blues',\n",
        "            xticklabels=['Fail', 'Pass'], yticklabels=['Fail', 'Pass'])\n",
        "plt.ylabel('Actual')\n",
        "plt.xlabel('Predicted')\n",
        "plt.title('Confusion Matrix for Student Performance Prediction')\n",
        "plt.show()\n"
      ],
      "metadata": {
        "colab": {
          "base_uri": "https://localhost:8080/",
          "height": 410
        },
        "id": "3KPpsOtLTENQ",
        "outputId": "834923a2-ce00-48b9-91fe-54313f4eacaa"
      },
      "execution_count": null,
      "outputs": [
        {
          "output_type": "display_data",
          "data": {
            "text/plain": [
              "<Figure size 600x400 with 2 Axes>"
            ],
            "image/png": "[encoded data removed]"
          },
          "metadata": {}
        }
      ]
    },
    {
      "cell_type": "code",
      "source": [
        "import pandas as pd\n",
        "from sklearn.model_selection import train_test_split, GridSearchCV\n",
        "from sklearn.ensemble import RandomForestClassifier\n",
        "from sklearn.metrics import confusion_matrix, classification_report\n",
        "from sklearn.preprocessing import StandardScaler\n",
        "from sklearn.impute import SimpleImputer\n",
        "from imblearn.over_sampling import SMOTE  # For handling class imbalance\n",
        "import seaborn as sns\n",
        "import matplotlib.pyplot as plt\n",
        "\n",
        "# 1. Load your data\n",
        "data = pd.read_csv('original.csv')\n",
        "\n",
        "# Drop empty or unnecessary columns\n",
        "data = data.drop(['Unnamed: 20', 'Unnamed: 21'], axis=1, errors='ignore')\n",
        "\n",
        "# Ensure target column is clean (no NaN values)\n",
        "target_variable = 'label (fail=1, pass=0)'\n",
        "data = data.dropna(subset=[target_variable])\n",
        "\n",
        "# 2. Define features (X) and target (y)\n",
        "X = data.drop(target_variable, axis=1)\n",
        "y = data[target_variable]\n",
        "\n",
        "# 3. Split data into training and testing sets\n",
        "X_train, X_test, y_train, y_test = train_test_split(X, y, test_size=0.2, random_state=42)\n",
        "\n",
        "# 4. Handle missing data using SimpleImputer\n",
        "imputer = SimpleImputer(strategy='mean')\n",
        "X_train = imputer.fit_transform(X_train)\n",
        "X_test = imputer.transform(X_test)\n",
        "\n",
        "# 5. Feature Scaling using StandardScaler\n",
        "scaler = StandardScaler()\n",
        "X_train = scaler.fit_transform(X_train)\n",
        "X_test = scaler.transform(X_test)\n",
        "\n",
        "# 6. Handle class imbalance using SMOTE\n",
        "smote = SMOTE(random_state=42)\n",
        "X_train, y_train = smote.fit_resample(X_train, y_train)\n",
        "\n",
        "# 7. Train the model using RandomForestClassifier with hyperparameter tuning\n",
        "rf_model = RandomForestClassifier(random_state=42)\n",
        "\n",
        "# Hyperparameters to tune\n",
        "param_grid = {\n",
        "    'n_estimators': [100, 200, 300],\n",
        "    'max_depth': [5, 10, None],\n",
        "    'min_samples_split': [2, 5, 10],\n",
        "    'min_samples_leaf': [1, 2, 4]\n",
        "}\n",
        "\n",
        "# Use GridSearchCV to find the best hyperparameters\n",
        "grid_search = GridSearchCV(estimator=rf_model, param_grid=param_grid,\n",
        "                           cv=5, n_jobs=-1, verbose=1, scoring='accuracy')\n",
        "\n",
        "grid_search.fit(X_train, y_train)\n",
        "best_model = grid_search.best_estimator_\n",
        "\n",
        "# 8. Make predictions on the test set\n",
        "y_pred = best_model.predict(X_test)\n",
        "\n",
        "# 9. Evaluate the model\n",
        "print(\"Classification Report:\\n\", classification_report(y_test, y_pred))\n",
        "\n",
        "# Generate confusion matrix\n",
        "cm = confusion_matrix(y_test, y_pred)\n",
        "\n",
        "# Visualize the confusion matrix\n",
        "plt.figure(figsize=(6, 4))\n",
        "sns.heatmap(cm, annot=True, fmt='d', cmap='Blues',\n",
        "            xticklabels=['Fail', 'Pass'], yticklabels=['Fail', 'Pass'])\n",
        "plt.ylabel('Actual')\n",
        "plt.xlabel('Predicted')\n",
        "plt.title('Confusion Matrix for Student Performance Prediction')\n",
        "plt.show()\n"
      ],
      "metadata": {
        "colab": {
          "base_uri": "https://localhost:8080/",
          "height": 601
        },
        "id": "l2p4YgHHTFQR",
        "outputId": "0f3c6d40-176e-42bf-b8fb-cbfb3c67a7ff"
      },
      "execution_count": null,
      "outputs": [
        {
          "output_type": "stream",
          "name": "stdout",
          "text": [
            "Fitting 5 folds for each of 81 candidates, totalling 405 fits\n",
            "Classification Report:\n",
            "               precision    recall  f1-score   support\n",
            "\n",
            "         0.0       0.93      1.00      0.96        13\n",
            "         1.0       1.00      0.67      0.80         3\n",
            "\n",
            "    accuracy                           0.94        16\n",
            "   macro avg       0.96      0.83      0.88        16\n",
            "weighted avg       0.94      0.94      0.93        16\n",
            "\n"
          ]
        },
        {
          "output_type": "display_data",
          "data": {
            "text/plain": [
              "<Figure size 600x400 with 2 Axes>"
            ],
            "image/png": "[encoded data removed]"
          },
          "metadata": {}
        }
      ]
    },
    {
      "cell_type": "code",
      "source": [
        "import pandas as pd\n",
        "from sklearn.model_selection import train_test_split, GridSearchCV\n",
        "from sklearn.ensemble import RandomForestClassifier\n",
        "from sklearn.preprocessing import StandardScaler\n",
        "from sklearn.impute import SimpleImputer\n",
        "from imblearn.over_sampling import SMOTE\n",
        "import joblib\n",
        "\n",
        "# Load your data\n",
        "data = pd.read_csv('original.csv')\n",
        "\n",
        "# Drop unnecessary columns\n",
        "data = data.drop(['Unnamed: 20', 'Unnamed: 21'], axis=1, errors='ignore')\n",
        "\n",
        "# Ensure target column is clean\n",
        "target_variable = 'label (fail=1, pass=0)'\n",
        "data = data.dropna(subset=[target_variable])\n",
        "\n",
        "# Define features (X) and target (y)\n",
        "X = data.drop(target_variable, axis=1)\n",
        "y = data[target_variable]\n",
        "\n",
        "# Split data into training and testing sets\n",
        "X_train, X_test, y_train, y_test = train_test_split(X, y, test_size=0.2, random_state=42)\n",
        "\n",
        "# Handle missing data\n",
        "imputer = SimpleImputer(strategy='mean')\n",
        "X_train = imputer.fit_transform(X_train)\n",
        "X_test = imputer.transform(X_test)\n",
        "\n",
        "# Feature scaling\n",
        "scaler = StandardScaler()\n",
        "X_train = scaler.fit_transform(X_train)\n",
        "X_test = scaler.transform(X_test)\n",
        "\n",
        "# Handle class imbalance\n",
        "smote = SMOTE(random_state=42)\n",
        "X_train, y_train = smote.fit_resample(X_train, y_train)\n",
        "\n",
        "# Train the model using RandomForest with hyperparameter tuning\n",
        "rf_model = RandomForestClassifier(random_state=42)\n",
        "param_grid = {\n",
        "    'n_estimators': [100, 200, 300],\n",
        "    'max_depth': [5, 10, None],\n",
        "    'min_samples_split': [2, 5, 10],\n",
        "    'min_samples_leaf': [1, 2, 4]\n",
        "}\n",
        "\n",
        "grid_search = GridSearchCV(estimator=rf_model, param_grid=param_grid,\n",
        "                           cv=5, n_jobs=-1, verbose=1, scoring='accuracy')\n",
        "\n",
        "grid_search.fit(X_train, y_train)\n",
        "\n",
        "# Assign the best model\n",
        "best_model = grid_search.best_estimator_\n",
        "\n",
        "# Save the model, imputer, and scaler\n",
        "joblib.dump(best_model, 'best_model.pkl')\n",
        "joblib.dump(imputer, 'imputer.pkl')\n",
        "joblib.dump(scaler, 'scaler.pkl')\n",
        "\n",
        "print(\"Model and transformers saved successfully!\")\n"
      ],
      "metadata": {
        "id": "sJDsasoJXhH0",
        "colab": {
          "base_uri": "https://localhost:8080/"
        },
        "outputId": "b4ef2e47-563a-4ee8-c126-498c484b1e82"
      },
      "execution_count": null,
      "outputs": [
        {
          "output_type": "stream",
          "name": "stdout",
          "text": [
            "Fitting 5 folds for each of 81 candidates, totalling 405 fits\n",
            "Model and transformers saved successfully!\n"
          ]
        }
      ]
    },
    {
      "cell_type": "code",
      "source": [
        "import pandas as pd\n",
        "\n",
        "# Load the dataset\n",
        "data = pd.read_csv('/content/drive/MyDrive/Documents/original.csv')\n",
        "\n",
        "# Display the first few rows and column info\n",
        "data.head(), data.info()\n"
      ],
      "metadata": {
        "colab": {
          "base_uri": "https://localhost:8080/"
        },
        "id": "ACQW4kKjsCuF",
        "outputId": "99221959-dbee-433f-b0a7-e32ae9668922"
      },
      "execution_count": 2,
      "outputs": [
        {
          "output_type": "stream",
          "name": "stdout",
          "text": [
            "<class 'pandas.core.frame.DataFrame'>\n",
            "RangeIndex: 87 entries, 0 to 86\n",
            "Data columns (total 22 columns):\n",
            " #   Column                             Non-Null Count  Dtype  \n",
            "---  ------                             --------------  -----  \n",
            " 0   Gender                             80 non-null     float64\n",
            " 1   Age                                80 non-null     float64\n",
            " 2   POLAR4 Quintile                    80 non-null     float64\n",
            " 3   POLAR3 Quintile                    80 non-null     float64\n",
            " 4   Adult HE 2001 Quintile             80 non-null     float64\n",
            " 5   Adult HE 2011 Quintile             80 non-null     float64\n",
            " 6   TUNDRA MSOA Quintile               80 non-null     float64\n",
            " 7   TUNDRA LSOA Quintile               80 non-null     float64\n",
            " 8   Gaps GCSE Quintile                 80 non-null     float64\n",
            " 9   Gaps GCSE Ethnicity Quintile       80 non-null     float64\n",
            " 10  Uni Connect target ward            80 non-null     float64\n",
            " 11  attending from home?               80 non-null     float64\n",
            " 12  distance to university (km)        80 non-null     float64\n",
            " 13  Count of Module Area Logins        80 non-null     float64\n",
            " 14  Total Hours in Module Area         80 non-null     float64\n",
            " 15  % of Average Hours in Module Area  80 non-null     float64\n",
            " 16  # of presence                      80 non-null     float64\n",
            " 17  # of Absence                       78 non-null     float64\n",
            " 18  Percent Attended                   80 non-null     float64\n",
            " 19  label (fail=1, pass=0)             80 non-null     float64\n",
            " 20  Unnamed: 20                        0 non-null      float64\n",
            " 21  Unnamed: 21                        0 non-null      float64\n",
            "dtypes: float64(22)\n",
            "memory usage: 15.1 KB\n"
          ]
        },
        {
          "output_type": "execute_result",
          "data": {
            "text/plain": [
              "(   Gender   Age  POLAR4 Quintile  POLAR3 Quintile  Adult HE 2001 Quintile  \\\n",
              " 0     0.0  38.0              5.0              5.0                     4.0   \n",
              " 1     0.0  22.0              4.0              2.0                     1.0   \n",
              " 2     0.0  21.0              4.0              5.0                     4.0   \n",
              " 3     0.0  25.0              5.0              4.0                     3.0   \n",
              " 4     0.0  20.0              5.0              4.0                     3.0   \n",
              " \n",
              "    Adult HE 2011 Quintile  TUNDRA MSOA Quintile  TUNDRA LSOA Quintile  \\\n",
              " 0                     5.0                   4.0                   4.0   \n",
              " 1                     3.0                   4.0                   4.0   \n",
              " 2                     5.0                   4.0                   4.0   \n",
              " 3                     4.0                   3.0                   3.0   \n",
              " 4                     4.0                   3.0                   3.0   \n",
              " \n",
              "    Gaps GCSE Quintile   Gaps GCSE Ethnicity Quintile  ...  \\\n",
              " 0                  5.0                           5.0  ...   \n",
              " 1                  4.0                           5.0  ...   \n",
              " 2                  5.0                           5.0  ...   \n",
              " 3                  5.0                           5.0  ...   \n",
              " 4                  4.0                           4.0  ...   \n",
              " \n",
              "    distance to university (km)  Count of Module Area Logins  \\\n",
              " 0                    13.333806                         19.0   \n",
              " 1                    15.844126                          1.0   \n",
              " 2                    17.706573                         25.0   \n",
              " 3                    17.327498                          3.0   \n",
              " 4                     0.000000                         25.0   \n",
              " \n",
              "    Total Hours in Module Area  % of Average Hours in Module Area  \\\n",
              " 0                        7.41                           0.620767   \n",
              " 1                        0.03                           0.002513   \n",
              " 2                        6.14                           0.514374   \n",
              " 3                        0.16                           0.013404   \n",
              " 4                        4.03                           0.337610   \n",
              " \n",
              "    # of presence  # of Absence  Percent Attended  label (fail=1, pass=0)  \\\n",
              " 0            3.0           9.0         25.000000                     1.0   \n",
              " 1            0.0          12.0          0.000000                     1.0   \n",
              " 2            5.0           7.0         41.666667                     1.0   \n",
              " 3            0.0          12.0          0.000000                     1.0   \n",
              " 4           11.0           1.0         91.666667                     1.0   \n",
              " \n",
              "    Unnamed: 20  Unnamed: 21  \n",
              " 0          NaN          NaN  \n",
              " 1          NaN          NaN  \n",
              " 2          NaN          NaN  \n",
              " 3          NaN          NaN  \n",
              " 4          NaN          NaN  \n",
              " \n",
              " [5 rows x 22 columns],\n",
              " None)"
            ]
          },
          "metadata": {},
          "execution_count": 2
        }
      ]
    },
    {
      "cell_type": "code",
      "source": [
        "# Drop irrelevant columns (empty ones)\n",
        "data_cleaned = data.drop(['Unnamed: 20', 'Unnamed: 21'], axis=1)\n",
        "\n",
        "# Handle missing values by filling with the column means\n",
        "data_cleaned.fillna(data_cleaned.mean(), inplace=True)\n",
        "\n",
        "# Separate features (X) and target (y)\n",
        "X = data_cleaned.drop('label (fail=1, pass=0)', axis=1)\n",
        "y = data_cleaned['label (fail=1, pass=0)']\n",
        "\n",
        "# Perform train-test split (80% training, 20% testing)\n",
        "from sklearn.model_selection import train_test_split\n",
        "X_train, X_test, y_train, y_test = train_test_split(X, y, test_size=0.2, random_state=42)\n",
        "\n",
        "X_train.shape, X_test.shape\n"
      ],
      "metadata": {
        "colab": {
          "base_uri": "https://localhost:8080/"
        },
        "id": "JEJrBgkgsgO5",
        "outputId": "dac94146-9526-4e0e-dcd6-0ef44cc5dcf9"
      },
      "execution_count": 3,
      "outputs": [
        {
          "output_type": "execute_result",
          "data": {
            "text/plain": [
              "((69, 19), (18, 19))"
            ]
          },
          "metadata": {},
          "execution_count": 3
        }
      ]
    },
    {
      "cell_type": "code",
      "source": [],
      "metadata": {
        "id": "rnLuD26YtIYU"
      },
      "execution_count": null,
      "outputs": []
    },
    {
      "source": [
        "from sklearn.model_selection import train_test_split\n",
        "from sklearn.linear_model import ElasticNetCV\n",
        "from sklearn.preprocessing import StandardScaler\n",
        "from sklearn.impute import SimpleImputer # Import SimpleImputer\n",
        "import numpy as np\n",
        "\n",
        "# Remove unnamed columns and any column with null values\n",
        "# Assuming \"data\" is your original DataFrame\n",
        "data_cleaned = data.drop(columns=[col for col in data.columns if 'Unnamed' in col or data[col].isnull().all()])\n",
        "\n",
        "\n",
        "# Separate features and target variable\n",
        "X = data_cleaned.drop(columns=[\"label (fail=1, pass=0)\"])\n",
        "y = data_cleaned[\"label (fail=1, pass=0)\"]\n",
        "\n",
        "# Remove rows where the target variable is NaN\n",
        "# This ensures both X and y are consistent after dropping rows.\n",
        "data_cleaned = data_cleaned.dropna(subset=['label (fail=1, pass=0)'])\n",
        "X = data_cleaned.drop(columns=[\"label (fail=1, pass=0)\"])\n",
        "y = data_cleaned[\"label (fail=1, pass=0)\"]\n",
        "\n",
        "\n",
        "# Split the data into training and test sets\n",
        "X_train, X_test, y_train, y_test = train_test_split(X, y, test_size=0.2, random_state=42)\n",
        "\n",
        "# Impute missing values before scaling # New: Imputation step\n",
        "imputer = SimpleImputer(strategy='mean') # Create an imputer instance\n",
        "X_train = imputer.fit_transform(X_train) # Fit and transform on training data\n",
        "X_test = imputer.transform(X_test) # Transform test data\n",
        "\n",
        "# Standardize the data\n",
        "scaler = StandardScaler()\n",
        "X_train_scaled = scaler.fit_transform(X_train)\n",
        "X_test_scaled = scaler.transform(X_test)\n",
        "\n",
        "# Apply Elastic Net with cross-validation to determine optimal alpha and l1_ratio\n",
        "elastic_net = ElasticNetCV(cv=5, random_state=42)\n",
        "elastic_net.fit(X_train_scaled, y_train)\n",
        "\n",
        "# Get the selected features by Elastic Net\n",
        "selected_features = np.array(X.columns)[elastic_net.coef_ != 0]\n",
        "print(selected_features.sum())\n",
        "# Display the selected features\n",
        "selected_features\n"
      ],
      "cell_type": "code",
      "metadata": {
        "colab": {
          "base_uri": "https://localhost:8080/"
        },
        "id": "GnFKlBNRwkPk",
        "outputId": "c4859da8-ce3a-463d-db76-74ecabe15026"
      },
      "execution_count": 14,
      "outputs": [
        {
          "output_type": "stream",
          "name": "stdout",
          "text": [
            "GenderAgePOLAR4 QuintileAdult HE 2001 QuintileGaps GCSE Quintile Uni Connect target wardattending from home?distance to university (km)Count of Module Area LoginsTotal Hours in Module Area% of Average Hours in Module Area# of AbsencePercent Attended\n"
          ]
        },
        {
          "output_type": "execute_result",
          "data": {
            "text/plain": [
              "array(['Gender', 'Age', 'POLAR4 Quintile', 'Adult HE 2001 Quintile',\n",
              "       'Gaps GCSE Quintile ', 'Uni Connect target ward',\n",
              "       'attending from home?', 'distance to university (km)',\n",
              "       'Count of Module Area Logins', 'Total Hours in Module Area',\n",
              "       '% of Average Hours in Module Area', '# of Absence',\n",
              "       'Percent Attended'], dtype=object)"
            ]
          },
          "metadata": {},
          "execution_count": 14
        }
      ]
    },
    {
      "cell_type": "code",
      "source": [
        "import pandas as pd\n",
        "from sklearn.model_selection import train_test_split, GridSearchCV\n",
        "from sklearn.ensemble import RandomForestClassifier\n",
        "from sklearn.metrics import confusion_matrix, classification_report\n",
        "from sklearn.preprocessing import StandardScaler\n",
        "from sklearn.impute import SimpleImputer\n",
        "from imblearn.over_sampling import SMOTE  # For handling class imbalance\n",
        "import seaborn as sns\n",
        "import matplotlib.pyplot as plt\n",
        "\n",
        "# Drop empty or unnecessary columns\n",
        "#data = data.drop(['Unnamed: 20', 'Unnamed: 21'], axis=1, errors='ignore')\n",
        "\n",
        "# Ensure target column is clean (no NaN values)\n",
        "target_variable = 'label (fail=1, pass=0)'\n",
        "#data = data.dropna(subset=[target_variable])\n",
        "\n",
        "# 2. Define features (X) and target (y)\n",
        "#X = data.drop(target_variable, axis=1)\n",
        "#y = data[target_variable]\n",
        "\n",
        "# 3. Split data into training and testing sets\n",
        "#X_train, X_test, y_train, y_test = train_test_split(X, y, test_size=0.2, random_state=42)\n",
        "\n",
        "# 4. Handle missing data using SimpleImputer\n",
        "imputer = SimpleImputer(strategy='mean')\n",
        "X_train = imputer.fit_transform(X_train)\n",
        "X_test = imputer.transform(X_test)\n",
        "\n",
        "# 5. Feature Scaling using StandardScaler\n",
        "scaler = StandardScaler()\n",
        "X_train = scaler.fit_transform(X_train)\n",
        "X_test = scaler.transform(X_test)\n",
        "\n",
        "# 6. Handle class imbalance using SMOTE\n",
        "smote = SMOTE(random_state=42)\n",
        "X_train, y_train = smote.fit_resample(X_train, y_train)\n",
        "\n",
        "# 7. Train the model using RandomForestClassifier with hyperparameter tuning\n",
        "rf_model = RandomForestClassifier(random_state=42)\n",
        "\n",
        "# Hyperparameters to tune\n",
        "param_grid = {\n",
        "    'n_estimators': [100, 200, 300],\n",
        "    'max_depth': [5, 10, None],\n",
        "    'min_samples_split': [2, 5, 10],\n",
        "    'min_samples_leaf': [1, 2, 4]\n",
        "}\n",
        "\n",
        "# Use GridSearchCV to find the best hyperparameters\n",
        "grid_search = GridSearchCV(estimator=rf_model, param_grid=param_grid,\n",
        "                           cv=5, n_jobs=-1, verbose=1, scoring='accuracy')\n",
        "\n",
        "grid_search.fit(X_train, y_train)\n",
        "best_model = grid_search.best_estimator_\n",
        "\n",
        "# 8. Make predictions on the test set\n",
        "y_pred = best_model.predict(X_test)\n",
        "\n",
        "# 9. Evaluate the model\n",
        "print(\"Classification Report:\\n\", classification_report(y_test, y_pred))\n",
        "\n",
        "# Generate confusion matrix\n",
        "cm = confusion_matrix(y_test, y_pred)\n",
        "\n",
        "# Visualize the confusion matrix\n",
        "plt.figure(figsize=(6, 4))\n",
        "sns.heatmap(cm, annot=True, fmt='d', cmap='Blues',\n",
        "            xticklabels=['Fail', 'Pass'], yticklabels=['Fail', 'Pass'])\n",
        "plt.ylabel('Actual')\n",
        "plt.xlabel('Predicted')\n",
        "plt.title('Confusion Matrix for Student Performance Prediction')\n",
        "plt.show()\n"
      ],
      "metadata": {
        "colab": {
          "base_uri": "https://localhost:8080/",
          "height": 601
        },
        "id": "tDjqjKKfwx5x",
        "outputId": "b35a8637-d167-49f1-d69b-2ec827b20951"
      },
      "execution_count": 15,
      "outputs": [
        {
          "output_type": "stream",
          "name": "stdout",
          "text": [
            "Fitting 5 folds for each of 81 candidates, totalling 405 fits\n",
            "Classification Report:\n",
            "               precision    recall  f1-score   support\n",
            "\n",
            "         0.0       0.93      1.00      0.96        13\n",
            "         1.0       1.00      0.67      0.80         3\n",
            "\n",
            "    accuracy                           0.94        16\n",
            "   macro avg       0.96      0.83      0.88        16\n",
            "weighted avg       0.94      0.94      0.93        16\n",
            "\n"
          ]
        },
        {
          "output_type": "display_data",
          "data": {
            "text/plain": [
              "<Figure size 600x400 with 2 Axes>"
            ],
            "image/png": "[encoded data removed]"
          },
          "metadata": {}
        }
      ]
    }
  ]
}